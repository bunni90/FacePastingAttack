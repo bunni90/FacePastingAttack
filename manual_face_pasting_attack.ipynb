{
 "cells": [
  {
   "cell_type": "code",
   "execution_count": null,
   "id": "3b94ba0d",
   "metadata": {},
   "outputs": [],
   "source": [
    "# Author: Lukas Graner, Niklas Bunzel\n",
    "\n",
    "import os\n",
    "from pathlib import Path\n",
    "from io import BytesIO\n",
    "import requests\n",
    "import numpy as np\n",
    "from skopt import Optimizer\n",
    "from itertools import product\n",
    "import PIL.Image\n",
    "import json"
   ]
  },
  {
   "cell_type": "code",
   "execution_count": null,
   "id": "5e782d2a",
   "metadata": {},
   "outputs": [],
   "source": [
    "def load(f):\n",
    "    return np.asarray(PIL.Image.open(f))/255.0\n",
    "\n",
    "def scale(img, scale_x, scale_y=None):\n",
    "    if scale_y is None: scale_y = scale_x\n",
    "    from scipy.ndimage.interpolation import zoom\n",
    "    return zoom(img, [scale_x, scale_y, 1], order=0)\n",
    "\n",
    "def rotate(img, rotation):\n",
    "    from scipy.ndimage.interpolation import rotate\n",
    "    return rotate(img, rotation, reshape=False, order=0)\n",
    "\n",
    "def insert_image(source_img, target_img, target_mask, position_x=0, position_y=0, scale_x=1, scale_y=1, rotation=0, mask_bias=0.5, mask_slope=5):\n",
    "    scale_x *= source_img.shape[1] / target_img.shape[1]\n",
    "    scale_y *= source_img.shape[0] / target_img.shape[0]\n",
    "    position_x *= source_img.shape[1]\n",
    "    position_y *= source_img.shape[0]\n",
    "    \n",
    "    target_img = scale(target_img, scale_x, scale_y)\n",
    "    target_img = rotate(target_img, rotation)\n",
    "    target_mask = scale(target_mask, scale_x, scale_y)\n",
    "    target_mask = rotate(target_mask, rotation)\n",
    "    \n",
    "    source_height, source_width = source_img.shape[:2]\n",
    "    target_height, target_width = target_img.shape[:2]\n",
    "        \n",
    "    target_mask = np.tanh((target_mask-mask_bias)*mask_slope)*0.5+0.5\n",
    "    \n",
    "    target_height, target_width = target_img.shape[:2]\n",
    "    offset_y, offset_x = ((np.array(source_img.shape[:2]) - np.array(target_img.shape[:2]))/2 + [position_y, position_x]).astype(np.int32)\n",
    "    source_slice_y = slice(max(offset_y, 0), min(offset_y+target_height, source_height))\n",
    "    source_slice_x = slice(max(offset_x, 0), min(offset_x+target_width, source_width))\n",
    "    target_slice_y = slice(-offset_y if offset_y < 0 else None, source_height-(offset_y+target_height) if (offset_y+target_height > source_height) else None)\n",
    "    target_slice_x = slice(-offset_x if offset_x < 0 else None, source_width-(offset_x+target_width) if (offset_x+target_width > source_width) else None)\n",
    "    \n",
    "    img = np.array(source_img)    \n",
    "    img[source_slice_y, source_slice_x] = (\n",
    "        img[source_slice_y, source_slice_x] * (1-target_mask[target_slice_y, target_slice_x]) + \n",
    "        target_img[target_slice_y, target_slice_x] * target_mask[target_slice_y, target_slice_x]\n",
    "    )\n",
    "    return img"
   ]
  },
  {
   "cell_type": "code",
   "execution_count": null,
   "id": "470ced9b",
   "metadata": {},
   "outputs": [],
   "source": [
    "def predict(img, source, target, api_key=\"Your-API-Key\"):\n",
    "    with BytesIO() as bstream:\n",
    "        PIL.Image.fromarray((img*255).astype(np.uint8)).save(bstream, format=\"png\")\n",
    "        bstream.seek(0)\n",
    "        request = requests.post(\n",
    "            f\"https://api.mlsec.io/api/facerecognition/submit_sample/?api_token={api_key}&source={source}&target={target}\",\n",
    "            data=bstream.read())\n",
    "        return request.json()\n",
    "\n",
    "def insert_and_predict(source, target, position_x=0, position_y=0, scale_x=1, scale_y=1, rotation=0, mask_bias=0.5, mask_slope=5):\n",
    "    img = insert_image(imgs[source], imgs[target], masks[target], position_x, position_y, scale_x, scale_y, rotation, mask_bias, mask_slope)\n",
    "    prediction = predict(img, source, target)\n",
    "    return prediction   "
   ]
  },
  {
   "cell_type": "markdown",
   "id": "4c7c7f46",
   "metadata": {},
   "source": [
    "### Load images"
   ]
  },
  {
   "cell_type": "code",
   "execution_count": null,
   "id": "b0adc2d3",
   "metadata": {},
   "outputs": [],
   "source": [
    "imgs = [load(f) for f in sorted(Path(\"./faces\").glob(\"*_*.png\"))]\n",
    "masks = [m[...,:3] / m[...,:3].max() for m in map(load, sorted(Path(\"./facemasks\").glob(\"*_*.png\")))]"
   ]
  },
  {
   "cell_type": "markdown",
   "id": "c1f24e7b",
   "metadata": {},
   "source": [
    "### Gaussian Optimize"
   ]
  },
  {
   "cell_type": "code",
   "execution_count": null,
   "id": "8a29716b",
   "metadata": {},
   "outputs": [],
   "source": [
    "n_initial_points = 100\n",
    "n_points = 400"
   ]
  },
  {
   "cell_type": "code",
   "execution_count": null,
   "id": "2392ea77",
   "metadata": {
    "scrolled": true
   },
   "outputs": [],
   "source": [
    "for source, target in filter(lambda a: a[0]!=a[1], product(range(10), range(10))):\n",
    "    optimizer = Optimizer(\n",
    "        [(-0.45, 0.45), (-0.45, 0.45), (0.6, 1.8), (0.6, 1.8), (-30, 30), (0.0, 1), (5, 40)],\n",
    "        n_initial_points=n_initial_points, initial_point_generator=\"halton\", random_state=0\n",
    "    )\n",
    "\n",
    "    steps = []\n",
    "    for i in range(n_points):        \n",
    "        next_x = optimizer.ask()\n",
    "        prediction = insert_and_predict(source, target, *next_x)\n",
    "        steps.append({\"source\": source, \"target\": target, \"args\": next_x, \"prediction\": prediction})\n",
    "        score = prediction[\"confidence\"] + min(0.5, prediction[\"stealthiness\"])\n",
    "        optimizer_result = optimizer.tell(next_x, -score)\n",
    "        \n",
    "    Path(f\"results/steps_{source=}_{target=}.jsonl\").write_text(\"\\n\".join(map(json.dumps, steps)))"
   ]
  }
 ],
 "metadata": {
  "kernelspec": {
   "display_name": "Python 3 (ipykernel)",
   "language": "python",
   "name": "python3"
  },
  "language_info": {
   "codemirror_mode": {
    "name": "ipython",
    "version": 3
   },
   "file_extension": ".py",
   "mimetype": "text/x-python",
   "name": "python",
   "nbconvert_exporter": "python",
   "pygments_lexer": "ipython3",
   "version": "3.9.7"
  }
 },
 "nbformat": 4,
 "nbformat_minor": 5
}
